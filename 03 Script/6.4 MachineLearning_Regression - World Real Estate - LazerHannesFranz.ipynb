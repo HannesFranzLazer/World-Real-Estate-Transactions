{
 "cells": [
  {
   "cell_type": "markdown",
   "id": "10af69f7",
   "metadata": {},
   "source": [
    "# 6.4. Machine Learning / Regression - Global Real Estate Transactions"
   ]
  },
  {
   "cell_type": "markdown",
   "id": "15a4ff42",
   "metadata": {},
   "source": [
    "### Content:\n",
    "\n",
    "#### 01. Importing libraries and data\n",
    "#### 02. Data cleaning\n",
    "#### 03. Data Preparation for Regression Analysis\n",
    "#### 04. Regression analysis\n",
    "#### Bonus: Performance Improvement After Removing Outliers"
   ]
  },
  {
   "cell_type": "markdown",
   "id": "a5289bbb",
   "metadata": {},
   "source": [
    "### 01. Importing libraries and data"
   ]
  },
  {
   "cell_type": "code",
   "execution_count": 1,
   "id": "66920b45",
   "metadata": {},
   "outputs": [],
   "source": [
    "import pandas as pd\n",
    "import numpy as np\n",
    "import seaborn as sns\n",
    "import matplotlib\n",
    "import matplotlib.pyplot as plt\n",
    "import os\n",
    "import sklearn\n",
    "from sklearn.model_selection import train_test_split \n",
    "from sklearn.linear_model import LinearRegression\n",
    "from sklearn.metrics import mean_squared_error, r2_score"
   ]
  },
  {
   "cell_type": "code",
   "execution_count": 2,
   "id": "0cdc6b7d",
   "metadata": {},
   "outputs": [],
   "source": [
    "# This option ensures that the graphs you create are displayed within the notebook without the need to \"call\" them specifically.\n",
    "\n",
    "%matplotlib inline"
   ]
  },
  {
   "cell_type": "code",
   "execution_count": 3,
   "id": "00a1dc18",
   "metadata": {},
   "outputs": [],
   "source": [
    "# folder path to main project folder\n",
    "path = r'C:\\Users\\ThinkPad T570\\Documents\\05-2024 OpenData WorldRealEstate Analysis_LazerHF'"
   ]
  },
  {
   "cell_type": "code",
   "execution_count": 4,
   "id": "30338ef2",
   "metadata": {},
   "outputs": [],
   "source": [
    "# importing prepared World Real Estate dataframe\n",
    "df = pd.read_csv(os.path.join(path, '02 Data', 'Prepared Data', 'listings_clean.csv'))"
   ]
  },
  {
   "cell_type": "code",
   "execution_count": 5,
   "id": "9b8e14aa",
   "metadata": {},
   "outputs": [
    {
     "data": {
      "text/html": [
       "<div>\n",
       "<style scoped>\n",
       "    .dataframe tbody tr th:only-of-type {\n",
       "        vertical-align: middle;\n",
       "    }\n",
       "\n",
       "    .dataframe tbody tr th {\n",
       "        vertical-align: top;\n",
       "    }\n",
       "\n",
       "    .dataframe thead th {\n",
       "        text-align: right;\n",
       "    }\n",
       "</style>\n",
       "<table border=\"1\" class=\"dataframe\">\n",
       "  <thead>\n",
       "    <tr style=\"text-align: right;\">\n",
       "      <th></th>\n",
       "      <th>Unnamed: 0</th>\n",
       "      <th>Title</th>\n",
       "      <th>Country</th>\n",
       "      <th>Location</th>\n",
       "      <th>Year</th>\n",
       "      <th>Total_Floors</th>\n",
       "      <th>Apart_Floors</th>\n",
       "      <th>Apart_Rooms</th>\n",
       "      <th>Total_Area</th>\n",
       "      <th>Price</th>\n",
       "      <th>Continent</th>\n",
       "      <th>C-Code</th>\n",
       "      <th>Price_category</th>\n",
       "      <th>Time_Period</th>\n",
       "    </tr>\n",
       "  </thead>\n",
       "  <tbody>\n",
       "    <tr>\n",
       "      <th>0</th>\n",
       "      <td>1</td>\n",
       "      <td>4 room apartment 245 m² in Yesiloez, Turkey</td>\n",
       "      <td>Turkey</td>\n",
       "      <td>Yesiloez, Mediterranean Region, Alanya, Turkey</td>\n",
       "      <td>2007</td>\n",
       "      <td>2</td>\n",
       "      <td>3</td>\n",
       "      <td>5</td>\n",
       "      <td>245</td>\n",
       "      <td>274415.0</td>\n",
       "      <td>Europe</td>\n",
       "      <td>5</td>\n",
       "      <td>Middle price</td>\n",
       "      <td>2000-2010</td>\n",
       "    </tr>\n",
       "    <tr>\n",
       "      <th>1</th>\n",
       "      <td>4</td>\n",
       "      <td>2 room apartment 54 m² in Prague, Czech Republic</td>\n",
       "      <td>Czech Republic</td>\n",
       "      <td>Prague, Czech Republic</td>\n",
       "      <td>2023</td>\n",
       "      <td>4</td>\n",
       "      <td>2</td>\n",
       "      <td>4</td>\n",
       "      <td>54</td>\n",
       "      <td>314990.0</td>\n",
       "      <td>Europe</td>\n",
       "      <td>5</td>\n",
       "      <td>Middle price</td>\n",
       "      <td>2010on</td>\n",
       "    </tr>\n",
       "    <tr>\n",
       "      <th>2</th>\n",
       "      <td>6</td>\n",
       "      <td>3 room apartment 72 m² in Minsk, Belarus</td>\n",
       "      <td>Belarus</td>\n",
       "      <td>Minsk, Belarus</td>\n",
       "      <td>1955</td>\n",
       "      <td>4</td>\n",
       "      <td>4</td>\n",
       "      <td>3</td>\n",
       "      <td>72</td>\n",
       "      <td>122000.0</td>\n",
       "      <td>Europe</td>\n",
       "      <td>5</td>\n",
       "      <td>Middle price</td>\n",
       "      <td>1950-2000</td>\n",
       "    </tr>\n",
       "    <tr>\n",
       "      <th>3</th>\n",
       "      <td>7</td>\n",
       "      <td>3 room apartment 100 m² in Minsk, Belarus</td>\n",
       "      <td>Belarus</td>\n",
       "      <td>Minsk, Belarus</td>\n",
       "      <td>2013</td>\n",
       "      <td>16</td>\n",
       "      <td>2</td>\n",
       "      <td>3</td>\n",
       "      <td>100</td>\n",
       "      <td>159000.0</td>\n",
       "      <td>Europe</td>\n",
       "      <td>5</td>\n",
       "      <td>Middle price</td>\n",
       "      <td>2010on</td>\n",
       "    </tr>\n",
       "    <tr>\n",
       "      <th>4</th>\n",
       "      <td>16</td>\n",
       "      <td>1 room apartment 55 m² in Akarca, Turkey</td>\n",
       "      <td>Turkey</td>\n",
       "      <td>Akarca, Central Anatolia Region, Turkey</td>\n",
       "      <td>2021</td>\n",
       "      <td>6</td>\n",
       "      <td>2</td>\n",
       "      <td>2</td>\n",
       "      <td>55</td>\n",
       "      <td>314122.0</td>\n",
       "      <td>Europe</td>\n",
       "      <td>5</td>\n",
       "      <td>Middle price</td>\n",
       "      <td>2010on</td>\n",
       "    </tr>\n",
       "  </tbody>\n",
       "</table>\n",
       "</div>"
      ],
      "text/plain": [
       "   Unnamed: 0                                             Title  \\\n",
       "0           1       4 room apartment 245 m² in Yesiloez, Turkey   \n",
       "1           4  2 room apartment 54 m² in Prague, Czech Republic   \n",
       "2           6          3 room apartment 72 m² in Minsk, Belarus   \n",
       "3           7         3 room apartment 100 m² in Minsk, Belarus   \n",
       "4          16          1 room apartment 55 m² in Akarca, Turkey   \n",
       "\n",
       "          Country                                        Location  Year  \\\n",
       "0          Turkey  Yesiloez, Mediterranean Region, Alanya, Turkey  2007   \n",
       "1  Czech Republic                          Prague, Czech Republic  2023   \n",
       "2         Belarus                                  Minsk, Belarus  1955   \n",
       "3         Belarus                                  Minsk, Belarus  2013   \n",
       "4          Turkey         Akarca, Central Anatolia Region, Turkey  2021   \n",
       "\n",
       "   Total_Floors  Apart_Floors  Apart_Rooms  Total_Area     Price Continent  \\\n",
       "0             2             3            5         245  274415.0    Europe   \n",
       "1             4             2            4          54  314990.0    Europe   \n",
       "2             4             4            3          72  122000.0    Europe   \n",
       "3            16             2            3         100  159000.0    Europe   \n",
       "4             6             2            2          55  314122.0    Europe   \n",
       "\n",
       "   C-Code Price_category Time_Period  \n",
       "0       5   Middle price   2000-2010  \n",
       "1       5   Middle price      2010on  \n",
       "2       5   Middle price   1950-2000  \n",
       "3       5   Middle price      2010on  \n",
       "4       5   Middle price      2010on  "
      ]
     },
     "execution_count": 5,
     "metadata": {},
     "output_type": "execute_result"
    }
   ],
   "source": [
    "df.head()"
   ]
  },
  {
   "cell_type": "markdown",
   "id": "e011f5bd",
   "metadata": {},
   "source": [
    "### 02. Data Cleaning"
   ]
  },
  {
   "cell_type": "code",
   "execution_count": 6,
   "id": "dde36e8c",
   "metadata": {},
   "outputs": [
    {
     "data": {
      "text/plain": [
       "Index(['Unnamed: 0', 'Title', 'Country', 'Location', 'Year', 'Total_Floors',\n",
       "       'Apart_Floors', 'Apart_Rooms', 'Total_Area', 'Price', 'Continent',\n",
       "       'C-Code', 'Price_category', 'Time_Period'],\n",
       "      dtype='object')"
      ]
     },
     "execution_count": 6,
     "metadata": {},
     "output_type": "execute_result"
    }
   ],
   "source": [
    "df.columns"
   ]
  },
  {
   "cell_type": "code",
   "execution_count": 7,
   "id": "fb518c67",
   "metadata": {},
   "outputs": [],
   "source": [
    "# drop column\n",
    "df = df.drop(['Unnamed: 0'], axis=1)"
   ]
  },
  {
   "cell_type": "code",
   "execution_count": 8,
   "id": "c5127d3b",
   "metadata": {},
   "outputs": [
    {
     "data": {
      "text/plain": [
       "(15794, 13)"
      ]
     },
     "execution_count": 8,
     "metadata": {},
     "output_type": "execute_result"
    }
   ],
   "source": [
    "df.shape"
   ]
  },
  {
   "cell_type": "code",
   "execution_count": 9,
   "id": "f8a155c4",
   "metadata": {},
   "outputs": [
    {
     "data": {
      "text/plain": [
       "Title              object\n",
       "Country            object\n",
       "Location           object\n",
       "Year                int64\n",
       "Total_Floors        int64\n",
       "Apart_Floors        int64\n",
       "Apart_Rooms         int64\n",
       "Total_Area          int64\n",
       "Price             float64\n",
       "Continent          object\n",
       "C-Code              int64\n",
       "Price_category     object\n",
       "Time_Period        object\n",
       "dtype: object"
      ]
     },
     "execution_count": 9,
     "metadata": {},
     "output_type": "execute_result"
    }
   ],
   "source": [
    "df.dtypes"
   ]
  },
  {
   "cell_type": "markdown",
   "id": "2b7aa076",
   "metadata": {},
   "source": [
    "#### Missing Values"
   ]
  },
  {
   "cell_type": "code",
   "execution_count": 10,
   "id": "bb6c80e3",
   "metadata": {},
   "outputs": [
    {
     "data": {
      "text/plain": [
       "Title             0\n",
       "Country           0\n",
       "Location          0\n",
       "Year              0\n",
       "Total_Floors      0\n",
       "Apart_Floors      0\n",
       "Apart_Rooms       0\n",
       "Total_Area        0\n",
       "Price             0\n",
       "Continent         0\n",
       "C-Code            0\n",
       "Price_category    0\n",
       "Time_Period       0\n",
       "dtype: int64"
      ]
     },
     "execution_count": 10,
     "metadata": {},
     "output_type": "execute_result"
    }
   ],
   "source": [
    "# Check for missing values\n",
    "df.isnull().sum()"
   ]
  },
  {
   "cell_type": "markdown",
   "id": "5544de98",
   "metadata": {},
   "source": [
    "#### Duplicates"
   ]
  },
  {
   "cell_type": "code",
   "execution_count": 13,
   "id": "de1253fd",
   "metadata": {},
   "outputs": [],
   "source": [
    "# check for duplicates\n",
    "dups = df.duplicated()"
   ]
  },
  {
   "cell_type": "code",
   "execution_count": 12,
   "id": "8552d0be",
   "metadata": {},
   "outputs": [
    {
     "data": {
      "text/plain": [
       "(15794,)"
      ]
     },
     "execution_count": 12,
     "metadata": {},
     "output_type": "execute_result"
    }
   ],
   "source": [
    "dups.shape"
   ]
  },
  {
   "cell_type": "markdown",
   "id": "7d03d2d2",
   "metadata": {},
   "source": [
    "#### Extreme Values Check"
   ]
  },
  {
   "cell_type": "code",
   "execution_count": 14,
   "id": "6abc5e18",
   "metadata": {},
   "outputs": [
    {
     "name": "stderr",
     "output_type": "stream",
     "text": [
      "C:\\Users\\ThinkPad T570\\AppData\\Local\\Temp\\ipykernel_11308\\3020178489.py:1: UserWarning: \n",
      "\n",
      "`distplot` is a deprecated function and will be removed in seaborn v0.14.0.\n",
      "\n",
      "Please adapt your code to use either `displot` (a figure-level function with\n",
      "similar flexibility) or `histplot` (an axes-level function for histograms).\n",
      "\n",
      "For a guide to updating your code to use the new functions, please see\n",
      "https://gist.github.com/mwaskom/de44147ed2974457ad6372750bbe5751\n",
      "\n",
      "  sns.distplot(df['Price'], bins=25) # Shows extreme values\n",
      "C:\\Users\\ThinkPad T570\\anaconda3\\Lib\\site-packages\\seaborn\\_oldcore.py:1119: FutureWarning: use_inf_as_na option is deprecated and will be removed in a future version. Convert inf values to NaN before operating instead.\n",
      "  with pd.option_context('mode.use_inf_as_na', True):\n"
     ]
    },
    {
     "data": {
      "text/plain": [
       "<Axes: xlabel='Price', ylabel='Density'>"
      ]
     },
     "execution_count": 14,
     "metadata": {},
     "output_type": "execute_result"
    },
    {
     "data": {
      "image/png": "[encoded data removed]",
      "text/plain": [
       "<Figure size 640x480 with 1 Axes>"
      ]
     },
     "metadata": {},
     "output_type": "display_data"
    }
   ],
   "source": [
    "sns.distplot(df['Price'], bins=25) # Shows extreme values\n",
    "\n",
    "# Some of the outliers in the high values may need to be removed, but let's try without doing so first."
   ]
  },
  {
   "cell_type": "code",
   "execution_count": 15,
   "id": "23aa8bcb",
   "metadata": {},
   "outputs": [
    {
     "data": {
      "text/plain": [
       "134116.3534886666"
      ]
     },
     "execution_count": 15,
     "metadata": {},
     "output_type": "execute_result"
    }
   ],
   "source": [
    "df['Price'].mean() # Check the mean"
   ]
  },
  {
   "cell_type": "code",
   "execution_count": 16,
   "id": "fdc04ade",
   "metadata": {},
   "outputs": [
    {
     "data": {
      "text/plain": [
       "82900.0"
      ]
     },
     "execution_count": 16,
     "metadata": {},
     "output_type": "execute_result"
    }
   ],
   "source": [
    "df['Price'].median() # Check the median"
   ]
  },
  {
   "cell_type": "code",
   "execution_count": 17,
   "id": "5d3dd213",
   "metadata": {},
   "outputs": [
    {
     "data": {
      "text/plain": [
       "7294649.0"
      ]
     },
     "execution_count": 17,
     "metadata": {},
     "output_type": "execute_result"
    }
   ],
   "source": [
    "df['Price'].max() # Check the max"
   ]
  },
  {
   "cell_type": "code",
   "execution_count": 18,
   "id": "9aa537ae",
   "metadata": {},
   "outputs": [
    {
     "data": {
      "text/plain": [
       "5000.0"
      ]
     },
     "execution_count": 18,
     "metadata": {},
     "output_type": "execute_result"
    }
   ],
   "source": [
    "df['Price'].min() # Check the min"
   ]
  },
  {
   "cell_type": "code",
   "execution_count": 21,
   "id": "5c4f04db",
   "metadata": {},
   "outputs": [],
   "source": [
    "# create a df subset with house prices under 1mio USD\n",
    "df_price_sub = df[df['Price'] < 1000000]"
   ]
  },
  {
   "cell_type": "code",
   "execution_count": 24,
   "id": "3e9279ad",
   "metadata": {},
   "outputs": [
    {
     "name": "stderr",
     "output_type": "stream",
     "text": [
      "C:\\Users\\ThinkPad T570\\AppData\\Local\\Temp\\ipykernel_11308\\766677012.py:2: UserWarning: \n",
      "\n",
      "`distplot` is a deprecated function and will be removed in seaborn v0.14.0.\n",
      "\n",
      "Please adapt your code to use either `displot` (a figure-level function with\n",
      "similar flexibility) or `histplot` (an axes-level function for histograms).\n",
      "\n",
      "For a guide to updating your code to use the new functions, please see\n",
      "https://gist.github.com/mwaskom/de44147ed2974457ad6372750bbe5751\n",
      "\n",
      "  sns.distplot(df_price_sub['Price'], bins=25, kde = True)\n",
      "C:\\Users\\ThinkPad T570\\anaconda3\\Lib\\site-packages\\seaborn\\_oldcore.py:1119: FutureWarning: use_inf_as_na option is deprecated and will be removed in a future version. Convert inf values to NaN before operating instead.\n",
      "  with pd.option_context('mode.use_inf_as_na', True):\n"
     ]
    },
    {
     "data": {
      "text/plain": [
       "<Axes: xlabel='Price', ylabel='Density'>"
      ]
     },
     "execution_count": 24,
     "metadata": {},
     "output_type": "execute_result"
    },
    {
     "data": {
      "image/png": "[encoded data removed]",
      "text/plain": [
       "<Figure size 640x480 with 1 Axes>"
      ]
     },
     "metadata": {},
     "output_type": "display_data"
    }
   ],
   "source": [
    "# histogram distribution\n",
    "sns.distplot(df_price_sub['Price'], bins=25, kde = True)"
   ]
  },
  {
   "cell_type": "markdown",
   "id": "850f10f3",
   "metadata": {},
   "source": [
    "### 03. Data Preparation for Regression Analysis"
   ]
  },
  {
   "cell_type": "code",
   "execution_count": 27,
   "id": "cb75c18f",
   "metadata": {},
   "outputs": [
    {
     "data": {
      "image/png": "[encoded data removed]",
      "text/plain": [
       "<Figure size 640x480 with 1 Axes>"
      ]
     },
     "metadata": {},
     "output_type": "display_data"
    }
   ],
   "source": [
    "# Create a scatterplot using matplotlib for another look at how the chosen variables plot against each other.\n",
    "\n",
    "df.plot(x = 'Year', y='Price',style='o') # The style option creates a scatterplot; without it, we only have lines.\n",
    "plt.title('Building Construction Year vs Price per unit')  \n",
    "plt.xlabel('Year')  \n",
    "plt.ylabel('Price per unit')  \n",
    "plt.show()"
   ]
  },
  {
   "cell_type": "markdown",
   "id": "48c3d1f7",
   "metadata": {},
   "source": [
    "#### Hypothesis:"
   ]
  },
  {
   "cell_type": "markdown",
   "id": "ef932a4e",
   "metadata": {},
   "source": [
    "In the upcoming analysis, I aim to explore the hypothesis that there is a correlation between the year of construction and the price of a property. This hypothesis is centered around the notion that the age of a property may have an impact on its market value. It's posited that newer properties may command higher prices due to factors such as modern amenities, architectural designs, or increased construction costs. "
   ]
  },
  {
   "cell_type": "code",
   "execution_count": 28,
   "id": "602c0f12",
   "metadata": {},
   "outputs": [],
   "source": [
    "# Reshape the variables into NumPy arrays and put them into separate objects.\n",
    "\n",
    "X = df['Year'].values.reshape(-1,1)\n",
    "y = df['Price'].values.reshape(-1,1)"
   ]
  },
  {
   "cell_type": "code",
   "execution_count": 30,
   "id": "c85d17c2",
   "metadata": {},
   "outputs": [
    {
     "data": {
      "text/plain": [
       "array([[2007],\n",
       "       [2023],\n",
       "       [1955],\n",
       "       ...,\n",
       "       [2023],\n",
       "       [1910],\n",
       "       [2023]], dtype=int64)"
      ]
     },
     "execution_count": 30,
     "metadata": {},
     "output_type": "execute_result"
    }
   ],
   "source": [
    "X"
   ]
  },
  {
   "cell_type": "code",
   "execution_count": 31,
   "id": "b27ad512",
   "metadata": {},
   "outputs": [
    {
     "data": {
      "text/plain": [
       "array([[274415.],\n",
       "       [314990.],\n",
       "       [122000.],\n",
       "       ...,\n",
       "       [113135.],\n",
       "       [277167.],\n",
       "       [242970.]])"
      ]
     },
     "execution_count": 31,
     "metadata": {},
     "output_type": "execute_result"
    }
   ],
   "source": [
    "y"
   ]
  },
  {
   "cell_type": "code",
   "execution_count": 32,
   "id": "a2f406cb",
   "metadata": {},
   "outputs": [],
   "source": [
    "# Split data into a training set and a test set.\n",
    "\n",
    "X_train, X_test, y_train, y_test = train_test_split(X, y, test_size=0.3, random_state=0)"
   ]
  },
  {
   "cell_type": "markdown",
   "id": "edb95711",
   "metadata": {},
   "source": [
    "### 04. Regression Analysis"
   ]
  },
  {
   "cell_type": "code",
   "execution_count": 33,
   "id": "1c211e6b",
   "metadata": {},
   "outputs": [],
   "source": [
    "# Create a regression object.\n",
    "\n",
    "regression = LinearRegression()  # This is the regression object, which will be fit onto the training set."
   ]
  },
  {
   "cell_type": "code",
   "execution_count": 34,
   "id": "7c81671a",
   "metadata": {},
   "outputs": [
    {
     "data": {
      "text/html": [
       "<style>#sk-container-id-1 {color: black;}#sk-container-id-1 pre{padding: 0;}#sk-container-id-1 div.sk-toggleable {background-color: white;}#sk-container-id-1 label.sk-toggleable__label {cursor: pointer;display: block;width: 100%;margin-bottom: 0;padding: 0.3em;box-sizing: border-box;text-align: center;}#sk-container-id-1 label.sk-toggleable__label-arrow:before {content: \"▸\";float: left;margin-right: 0.25em;color: #696969;}#sk-container-id-1 label.sk-toggleable__label-arrow:hover:before {color: black;}#sk-container-id-1 div.sk-estimator:hover label.sk-toggleable__label-arrow:before {color: black;}#sk-container-id-1 div.sk-toggleable__content {max-height: 0;max-width: 0;overflow: hidden;text-align: left;background-color: #f0f8ff;}#sk-container-id-1 div.sk-toggleable__content pre {margin: 0.2em;color: black;border-radius: 0.25em;background-color: #f0f8ff;}#sk-container-id-1 input.sk-toggleable__control:checked~div.sk-toggleable__content {max-height: 200px;max-width: 100%;overflow: auto;}#sk-container-id-1 input.sk-toggleable__control:checked~label.sk-toggleable__label-arrow:before {content: \"▾\";}#sk-container-id-1 div.sk-estimator input.sk-toggleable__control:checked~label.sk-toggleable__label {background-color: #d4ebff;}#sk-container-id-1 div.sk-label input.sk-toggleable__control:checked~label.sk-toggleable__label {background-color: #d4ebff;}#sk-container-id-1 input.sk-hidden--visually {border: 0;clip: rect(1px 1px 1px 1px);clip: rect(1px, 1px, 1px, 1px);height: 1px;margin: -1px;overflow: hidden;padding: 0;position: absolute;width: 1px;}#sk-container-id-1 div.sk-estimator {font-family: monospace;background-color: #f0f8ff;border: 1px dotted black;border-radius: 0.25em;box-sizing: border-box;margin-bottom: 0.5em;}#sk-container-id-1 div.sk-estimator:hover {background-color: #d4ebff;}#sk-container-id-1 div.sk-parallel-item::after {content: \"\";width: 100%;border-bottom: 1px solid gray;flex-grow: 1;}#sk-container-id-1 div.sk-label:hover label.sk-toggleable__label {background-color: #d4ebff;}#sk-container-id-1 div.sk-serial::before {content: \"\";position: absolute;border-left: 1px solid gray;box-sizing: border-box;top: 0;bottom: 0;left: 50%;z-index: 0;}#sk-container-id-1 div.sk-serial {display: flex;flex-direction: column;align-items: center;background-color: white;padding-right: 0.2em;padding-left: 0.2em;position: relative;}#sk-container-id-1 div.sk-item {position: relative;z-index: 1;}#sk-container-id-1 div.sk-parallel {display: flex;align-items: stretch;justify-content: center;background-color: white;position: relative;}#sk-container-id-1 div.sk-item::before, #sk-container-id-1 div.sk-parallel-item::before {content: \"\";position: absolute;border-left: 1px solid gray;box-sizing: border-box;top: 0;bottom: 0;left: 50%;z-index: -1;}#sk-container-id-1 div.sk-parallel-item {display: flex;flex-direction: column;z-index: 1;position: relative;background-color: white;}#sk-container-id-1 div.sk-parallel-item:first-child::after {align-self: flex-end;width: 50%;}#sk-container-id-1 div.sk-parallel-item:last-child::after {align-self: flex-start;width: 50%;}#sk-container-id-1 div.sk-parallel-item:only-child::after {width: 0;}#sk-container-id-1 div.sk-dashed-wrapped {border: 1px dashed gray;margin: 0 0.4em 0.5em 0.4em;box-sizing: border-box;padding-bottom: 0.4em;background-color: white;}#sk-container-id-1 div.sk-label label {font-family: monospace;font-weight: bold;display: inline-block;line-height: 1.2em;}#sk-container-id-1 div.sk-label-container {text-align: center;}#sk-container-id-1 div.sk-container {/* jupyter's `normalize.less` sets `[hidden] { display: none; }` but bootstrap.min.css set `[hidden] { display: none !important; }` so we also need the `!important` here to be able to override the default hidden behavior on the sphinx rendered scikit-learn.org. See: https://github.com/scikit-learn/scikit-learn/issues/21755 */display: inline-block !important;position: relative;}#sk-container-id-1 div.sk-text-repr-fallback {display: none;}</style><div id=\"sk-container-id-1\" class=\"sk-top-container\"><div class=\"sk-text-repr-fallback\"><pre>LinearRegression()</pre><b>In a Jupyter environment, please rerun this cell to show the HTML representation or trust the notebook. <br />On GitHub, the HTML representation is unable to render, please try loading this page with nbviewer.org.</b></div><div class=\"sk-container\" hidden><div class=\"sk-item\"><div class=\"sk-estimator sk-toggleable\"><input class=\"sk-toggleable__control sk-hidden--visually\" id=\"sk-estimator-id-1\" type=\"checkbox\" checked><label for=\"sk-estimator-id-1\" class=\"sk-toggleable__label sk-toggleable__label-arrow\">LinearRegression</label><div class=\"sk-toggleable__content\"><pre>LinearRegression()</pre></div></div></div></div></div>"
      ],
      "text/plain": [
       "LinearRegression()"
      ]
     },
     "execution_count": 34,
     "metadata": {},
     "output_type": "execute_result"
    }
   ],
   "source": [
    "# Fit the regression object onto the training set.\n",
    "\n",
    "regression.fit(X_train, y_train)"
   ]
  },
  {
   "cell_type": "code",
   "execution_count": 35,
   "id": "cc73fb0c",
   "metadata": {},
   "outputs": [],
   "source": [
    "# Predict the values of y using X.\n",
    "\n",
    "y_predicted = regression.predict(X_test)"
   ]
  },
  {
   "cell_type": "code",
   "execution_count": 36,
   "id": "75b07879",
   "metadata": {},
   "outputs": [
    {
     "data": {
      "image/png": "[encoded data removed]",
      "text/plain": [
       "<Figure size 640x480 with 1 Axes>"
      ]
     },
     "metadata": {},
     "output_type": "display_data"
    }
   ],
   "source": [
    "# Create a plot that shows the regression line from the model on the test set.\n",
    "\n",
    "plot_test = plt\n",
    "plot_test.scatter(X_test, y_test, color='gray', s = 15)\n",
    "plot_test.plot(X_test, y_predicted, color='red', linewidth =3)\n",
    "plot_test.title('Building Construction Year vs Price per unit (Test set)')\n",
    "plot_test.xlabel('Year')\n",
    "plot_test.ylabel('Price per unit')\n",
    "plot_test.show()"
   ]
  },
  {
   "cell_type": "markdown",
   "id": "04ddc1fc",
   "metadata": {},
   "source": [
    "##### Interpretation:\n",
    "Upon reviewing the regression analysis, it is apparent that the correlation between the building construction year and the price does not perfectly align with the predicted linear model, represented by the red regression line. Despite our initial hypothesis, an intriguing pattern emerges in the data, particularly in the section representing older buildings (up to the mid-1950s). Here, a considerable number of data points indicate higher prices, deviating from the expected trend. This suggests that factors beyond the construction year might be influencing the price of these older buildings. Such factors could include architectural significance, location, or even historical value. While the overall trend supports a general increase in price with newer buildings, these outliers indicate the complexity of real estate pricing and emphasize the importance of considering a multifaceted approach when analyzing such data."
   ]
  },
  {
   "cell_type": "code",
   "execution_count": 37,
   "id": "51ba0e2f",
   "metadata": {},
   "outputs": [],
   "source": [
    "# Create objects that contain the model summary statistics.\n",
    "\n",
    "rmse = mean_squared_error(y_test, y_predicted) # This is the mean squared error\n",
    "r2 = r2_score(y_test, y_predicted) # This is the R2 score. "
   ]
  },
  {
   "cell_type": "code",
   "execution_count": 38,
   "id": "3875ec51",
   "metadata": {},
   "outputs": [
    {
     "name": "stdout",
     "output_type": "stream",
     "text": [
      "Slope: [[1173.62053083]]\n",
      "Mean squared error:  27779526303.76598\n",
      "R2 score:  0.017879476146658857\n"
     ]
    }
   ],
   "source": [
    "# Print the model summary statistics. This is where you evaluate the performance of the model.\n",
    "\n",
    "print('Slope:' ,regression.coef_)\n",
    "print('Mean squared error: ', rmse)\n",
    "print('R2 score: ', r2)"
   ]
  },
  {
   "cell_type": "code",
   "execution_count": 39,
   "id": "9010e249",
   "metadata": {},
   "outputs": [
    {
     "data": {
      "text/plain": [
       "array([[110646.66591947],\n",
       "       [156417.86662193],\n",
       "       [ 96563.21954948],\n",
       "       ...,\n",
       "       [135292.69706695],\n",
       "       [158765.1076836 ],\n",
       "       [158765.1076836 ]])"
      ]
     },
     "execution_count": 39,
     "metadata": {},
     "output_type": "execute_result"
    }
   ],
   "source": [
    "y_predicted"
   ]
  },
  {
   "cell_type": "code",
   "execution_count": 40,
   "id": "691df40f",
   "metadata": {},
   "outputs": [
    {
     "data": {
      "text/html": [
       "<div>\n",
       "<style scoped>\n",
       "    .dataframe tbody tr th:only-of-type {\n",
       "        vertical-align: middle;\n",
       "    }\n",
       "\n",
       "    .dataframe tbody tr th {\n",
       "        vertical-align: top;\n",
       "    }\n",
       "\n",
       "    .dataframe thead th {\n",
       "        text-align: right;\n",
       "    }\n",
       "</style>\n",
       "<table border=\"1\" class=\"dataframe\">\n",
       "  <thead>\n",
       "    <tr style=\"text-align: right;\">\n",
       "      <th></th>\n",
       "      <th>Actual</th>\n",
       "      <th>Predicted</th>\n",
       "    </tr>\n",
       "  </thead>\n",
       "  <tbody>\n",
       "    <tr>\n",
       "      <th>0</th>\n",
       "      <td>37000.0</td>\n",
       "      <td>110646.665919</td>\n",
       "    </tr>\n",
       "    <tr>\n",
       "      <th>1</th>\n",
       "      <td>92300.0</td>\n",
       "      <td>156417.866622</td>\n",
       "    </tr>\n",
       "    <tr>\n",
       "      <th>2</th>\n",
       "      <td>26500.0</td>\n",
       "      <td>96563.219549</td>\n",
       "    </tr>\n",
       "    <tr>\n",
       "      <th>3</th>\n",
       "      <td>396729.0</td>\n",
       "      <td>101257.701673</td>\n",
       "    </tr>\n",
       "    <tr>\n",
       "      <th>4</th>\n",
       "      <td>73538.0</td>\n",
       "      <td>158765.107684</td>\n",
       "    </tr>\n",
       "    <tr>\n",
       "      <th>5</th>\n",
       "      <td>68000.0</td>\n",
       "      <td>93042.357957</td>\n",
       "    </tr>\n",
       "    <tr>\n",
       "      <th>6</th>\n",
       "      <td>34920.0</td>\n",
       "      <td>158765.107684</td>\n",
       "    </tr>\n",
       "    <tr>\n",
       "      <th>7</th>\n",
       "      <td>46500.0</td>\n",
       "      <td>155244.246091</td>\n",
       "    </tr>\n",
       "    <tr>\n",
       "      <th>8</th>\n",
       "      <td>49900.0</td>\n",
       "      <td>116514.768574</td>\n",
       "    </tr>\n",
       "    <tr>\n",
       "      <th>9</th>\n",
       "      <td>64500.0</td>\n",
       "      <td>147028.902375</td>\n",
       "    </tr>\n",
       "    <tr>\n",
       "      <th>10</th>\n",
       "      <td>78120.0</td>\n",
       "      <td>158765.107684</td>\n",
       "    </tr>\n",
       "    <tr>\n",
       "      <th>11</th>\n",
       "      <td>182604.0</td>\n",
       "      <td>152897.005029</td>\n",
       "    </tr>\n",
       "    <tr>\n",
       "      <th>12</th>\n",
       "      <td>318183.0</td>\n",
       "      <td>157591.487153</td>\n",
       "    </tr>\n",
       "    <tr>\n",
       "      <th>13</th>\n",
       "      <td>32698.0</td>\n",
       "      <td>156417.866622</td>\n",
       "    </tr>\n",
       "    <tr>\n",
       "      <th>14</th>\n",
       "      <td>117072.0</td>\n",
       "      <td>157591.487153</td>\n",
       "    </tr>\n",
       "    <tr>\n",
       "      <th>15</th>\n",
       "      <td>134810.0</td>\n",
       "      <td>155244.246091</td>\n",
       "    </tr>\n",
       "    <tr>\n",
       "      <th>16</th>\n",
       "      <td>48900.0</td>\n",
       "      <td>88347.875834</td>\n",
       "    </tr>\n",
       "    <tr>\n",
       "      <th>17</th>\n",
       "      <td>61900.0</td>\n",
       "      <td>98910.460611</td>\n",
       "    </tr>\n",
       "    <tr>\n",
       "      <th>18</th>\n",
       "      <td>41500.0</td>\n",
       "      <td>122382.871228</td>\n",
       "    </tr>\n",
       "    <tr>\n",
       "      <th>19</th>\n",
       "      <td>83310.0</td>\n",
       "      <td>158765.107684</td>\n",
       "    </tr>\n",
       "  </tbody>\n",
       "</table>\n",
       "</div>"
      ],
      "text/plain": [
       "      Actual      Predicted\n",
       "0    37000.0  110646.665919\n",
       "1    92300.0  156417.866622\n",
       "2    26500.0   96563.219549\n",
       "3   396729.0  101257.701673\n",
       "4    73538.0  158765.107684\n",
       "5    68000.0   93042.357957\n",
       "6    34920.0  158765.107684\n",
       "7    46500.0  155244.246091\n",
       "8    49900.0  116514.768574\n",
       "9    64500.0  147028.902375\n",
       "10   78120.0  158765.107684\n",
       "11  182604.0  152897.005029\n",
       "12  318183.0  157591.487153\n",
       "13   32698.0  156417.866622\n",
       "14  117072.0  157591.487153\n",
       "15  134810.0  155244.246091\n",
       "16   48900.0   88347.875834\n",
       "17   61900.0   98910.460611\n",
       "18   41500.0  122382.871228\n",
       "19   83310.0  158765.107684"
      ]
     },
     "execution_count": 40,
     "metadata": {},
     "output_type": "execute_result"
    }
   ],
   "source": [
    "# Create a dataframe comparing the actual and predicted values of y.\n",
    "\n",
    "data = pd.DataFrame({'Actual': y_test.flatten(), 'Predicted': y_predicted.flatten()})\n",
    "data.head(20)"
   ]
  },
  {
   "cell_type": "markdown",
   "id": "2362d501",
   "metadata": {},
   "source": [
    "#### Compare how the regression fits the training set"
   ]
  },
  {
   "cell_type": "code",
   "execution_count": 41,
   "id": "d6d6a16d",
   "metadata": {},
   "outputs": [],
   "source": [
    "# Predict.\n",
    "\n",
    "y_predicted_train = regression.predict(X_train) # This is predicting X_train!"
   ]
  },
  {
   "cell_type": "code",
   "execution_count": 42,
   "id": "07111fb9",
   "metadata": {},
   "outputs": [],
   "source": [
    "rmse = mean_squared_error(y_train, y_predicted_train)\n",
    "r2 = r2_score(y_train, y_predicted_train)"
   ]
  },
  {
   "cell_type": "code",
   "execution_count": 43,
   "id": "64c3e783",
   "metadata": {},
   "outputs": [
    {
     "name": "stdout",
     "output_type": "stream",
     "text": [
      "Slope: [[1173.62053083]]\n",
      "Mean squared error:  39938837613.36551\n",
      "R2 score:  0.020454391342186073\n"
     ]
    }
   ],
   "source": [
    "print('Slope:' ,regression.coef_)\n",
    "print('Mean squared error: ', rmse)\n",
    "print('R2 score: ', r2)"
   ]
  },
  {
   "cell_type": "code",
   "execution_count": 44,
   "id": "c799b03e",
   "metadata": {},
   "outputs": [
    {
     "data": {
      "image/png": "[encoded data removed]",
      "text/plain": [
       "<Figure size 640x480 with 1 Axes>"
      ]
     },
     "metadata": {},
     "output_type": "display_data"
    }
   ],
   "source": [
    "# Visualizing the training set results.\n",
    "\n",
    "plot_test = plt\n",
    "plot_test.scatter(X_train, y_train, color='green', s = 15)\n",
    "plot_test.plot(X_train, y_predicted_train, color='red', linewidth =3)\n",
    "plot_test.title('Building Construction Year vs Price per unit (Train set)')\n",
    "plot_test.xlabel('Year')\n",
    "plot_test.ylabel('Price per unit')\n",
    "plot_test.show()"
   ]
  },
  {
   "cell_type": "markdown",
   "id": "8d1ba25e",
   "metadata": {},
   "source": [
    "#### Bonus: Performance Improvement After Removing Outliers"
   ]
  },
  {
   "cell_type": "code",
   "execution_count": 45,
   "id": "b0a1295d",
   "metadata": {},
   "outputs": [
    {
     "data": {
      "image/png": "[encoded data removed]",
      "text/plain": [
       "<Figure size 640x480 with 1 Axes>"
      ]
     },
     "metadata": {},
     "output_type": "display_data"
    }
   ],
   "source": [
    "# See how the scatterplot looks without outliers.\n",
    "\n",
    "df_price_sub.plot(x = 'Year', y='Price', style='o')  \n",
    "plt.title('Building Construction Year vs Price per unit')  \n",
    "plt.xlabel('Year')  \n",
    "plt.ylabel('Price per unit')  \n",
    "plt.show()"
   ]
  },
  {
   "cell_type": "code",
   "execution_count": 46,
   "id": "c865d4c9",
   "metadata": {},
   "outputs": [],
   "source": [
    "# Reshape again.\n",
    "\n",
    "X_2 = df_price_sub['Year'].values.reshape(-1,1)\n",
    "y_2 = df_price_sub['Price'].values.reshape(-1,1)"
   ]
  },
  {
   "cell_type": "code",
   "execution_count": 47,
   "id": "4d2a6541",
   "metadata": {},
   "outputs": [],
   "source": [
    "X_train_2, X_test_2, y_train_2, y_test_2 = train_test_split(X_2, y_2, test_size=0.3, random_state=0)"
   ]
  },
  {
   "cell_type": "code",
   "execution_count": 48,
   "id": "af6f13f1",
   "metadata": {},
   "outputs": [
    {
     "data": {
      "text/html": [
       "<style>#sk-container-id-2 {color: black;}#sk-container-id-2 pre{padding: 0;}#sk-container-id-2 div.sk-toggleable {background-color: white;}#sk-container-id-2 label.sk-toggleable__label {cursor: pointer;display: block;width: 100%;margin-bottom: 0;padding: 0.3em;box-sizing: border-box;text-align: center;}#sk-container-id-2 label.sk-toggleable__label-arrow:before {content: \"▸\";float: left;margin-right: 0.25em;color: #696969;}#sk-container-id-2 label.sk-toggleable__label-arrow:hover:before {color: black;}#sk-container-id-2 div.sk-estimator:hover label.sk-toggleable__label-arrow:before {color: black;}#sk-container-id-2 div.sk-toggleable__content {max-height: 0;max-width: 0;overflow: hidden;text-align: left;background-color: #f0f8ff;}#sk-container-id-2 div.sk-toggleable__content pre {margin: 0.2em;color: black;border-radius: 0.25em;background-color: #f0f8ff;}#sk-container-id-2 input.sk-toggleable__control:checked~div.sk-toggleable__content {max-height: 200px;max-width: 100%;overflow: auto;}#sk-container-id-2 input.sk-toggleable__control:checked~label.sk-toggleable__label-arrow:before {content: \"▾\";}#sk-container-id-2 div.sk-estimator input.sk-toggleable__control:checked~label.sk-toggleable__label {background-color: #d4ebff;}#sk-container-id-2 div.sk-label input.sk-toggleable__control:checked~label.sk-toggleable__label {background-color: #d4ebff;}#sk-container-id-2 input.sk-hidden--visually {border: 0;clip: rect(1px 1px 1px 1px);clip: rect(1px, 1px, 1px, 1px);height: 1px;margin: -1px;overflow: hidden;padding: 0;position: absolute;width: 1px;}#sk-container-id-2 div.sk-estimator {font-family: monospace;background-color: #f0f8ff;border: 1px dotted black;border-radius: 0.25em;box-sizing: border-box;margin-bottom: 0.5em;}#sk-container-id-2 div.sk-estimator:hover {background-color: #d4ebff;}#sk-container-id-2 div.sk-parallel-item::after {content: \"\";width: 100%;border-bottom: 1px solid gray;flex-grow: 1;}#sk-container-id-2 div.sk-label:hover label.sk-toggleable__label {background-color: #d4ebff;}#sk-container-id-2 div.sk-serial::before {content: \"\";position: absolute;border-left: 1px solid gray;box-sizing: border-box;top: 0;bottom: 0;left: 50%;z-index: 0;}#sk-container-id-2 div.sk-serial {display: flex;flex-direction: column;align-items: center;background-color: white;padding-right: 0.2em;padding-left: 0.2em;position: relative;}#sk-container-id-2 div.sk-item {position: relative;z-index: 1;}#sk-container-id-2 div.sk-parallel {display: flex;align-items: stretch;justify-content: center;background-color: white;position: relative;}#sk-container-id-2 div.sk-item::before, #sk-container-id-2 div.sk-parallel-item::before {content: \"\";position: absolute;border-left: 1px solid gray;box-sizing: border-box;top: 0;bottom: 0;left: 50%;z-index: -1;}#sk-container-id-2 div.sk-parallel-item {display: flex;flex-direction: column;z-index: 1;position: relative;background-color: white;}#sk-container-id-2 div.sk-parallel-item:first-child::after {align-self: flex-end;width: 50%;}#sk-container-id-2 div.sk-parallel-item:last-child::after {align-self: flex-start;width: 50%;}#sk-container-id-2 div.sk-parallel-item:only-child::after {width: 0;}#sk-container-id-2 div.sk-dashed-wrapped {border: 1px dashed gray;margin: 0 0.4em 0.5em 0.4em;box-sizing: border-box;padding-bottom: 0.4em;background-color: white;}#sk-container-id-2 div.sk-label label {font-family: monospace;font-weight: bold;display: inline-block;line-height: 1.2em;}#sk-container-id-2 div.sk-label-container {text-align: center;}#sk-container-id-2 div.sk-container {/* jupyter's `normalize.less` sets `[hidden] { display: none; }` but bootstrap.min.css set `[hidden] { display: none !important; }` so we also need the `!important` here to be able to override the default hidden behavior on the sphinx rendered scikit-learn.org. See: https://github.com/scikit-learn/scikit-learn/issues/21755 */display: inline-block !important;position: relative;}#sk-container-id-2 div.sk-text-repr-fallback {display: none;}</style><div id=\"sk-container-id-2\" class=\"sk-top-container\"><div class=\"sk-text-repr-fallback\"><pre>LinearRegression()</pre><b>In a Jupyter environment, please rerun this cell to show the HTML representation or trust the notebook. <br />On GitHub, the HTML representation is unable to render, please try loading this page with nbviewer.org.</b></div><div class=\"sk-container\" hidden><div class=\"sk-item\"><div class=\"sk-estimator sk-toggleable\"><input class=\"sk-toggleable__control sk-hidden--visually\" id=\"sk-estimator-id-2\" type=\"checkbox\" checked><label for=\"sk-estimator-id-2\" class=\"sk-toggleable__label sk-toggleable__label-arrow\">LinearRegression</label><div class=\"sk-toggleable__content\"><pre>LinearRegression()</pre></div></div></div></div></div>"
      ],
      "text/plain": [
       "LinearRegression()"
      ]
     },
     "execution_count": 48,
     "metadata": {},
     "output_type": "execute_result"
    }
   ],
   "source": [
    "# Run and fit the regression.\n",
    "\n",
    "regression = LinearRegression()  \n",
    "regression.fit(X_train_2, y_train_2)"
   ]
  },
  {
   "cell_type": "code",
   "execution_count": 49,
   "id": "ad3eb12b",
   "metadata": {},
   "outputs": [],
   "source": [
    "# Predict.\n",
    "\n",
    "y_predicted_2 = regression.predict(X_test_2)"
   ]
  },
  {
   "cell_type": "code",
   "execution_count": 50,
   "id": "eb5fa9fa",
   "metadata": {},
   "outputs": [],
   "source": [
    "rmse = mean_squared_error(y_test_2, y_predicted_2)\n",
    "r2 = r2_score(y_test_2, y_predicted_2)"
   ]
  },
  {
   "cell_type": "code",
   "execution_count": 51,
   "id": "279aa7d5",
   "metadata": {},
   "outputs": [
    {
     "name": "stdout",
     "output_type": "stream",
     "text": [
      "Slope: [[927.65255517]]\n",
      "Mean squared error:  13397429789.78919\n",
      "R2 score:  0.03985875044171261\n"
     ]
    }
   ],
   "source": [
    "print('Slope:' ,regression.coef_)\n",
    "print('Mean squared error: ', rmse)\n",
    "print('R2 score: ', r2)"
   ]
  },
  {
   "cell_type": "code",
   "execution_count": 52,
   "id": "e2a33a38",
   "metadata": {},
   "outputs": [
    {
     "data": {
      "image/png": "[encoded data removed]",
      "text/plain": [
       "<Figure size 640x480 with 1 Axes>"
      ]
     },
     "metadata": {},
     "output_type": "display_data"
    }
   ],
   "source": [
    "# Visualizing the test set results.\n",
    "plot_test = plt\n",
    "plot_test.scatter(X_test_2, y_test_2, color='gray', s = 15)\n",
    "plot_test.plot(X_test_2, y_predicted_2, color='red', linewidth =3)\n",
    "plot_test.title('Building Construction Year vs Price per unit (Test set)')\n",
    "plot_test.xlabel('Year')\n",
    "plot_test.ylabel('Price per unit')\n",
    "plot_test.show()"
   ]
  },
  {
   "cell_type": "code",
   "execution_count": 53,
   "id": "f184d4dd",
   "metadata": {},
   "outputs": [
    {
     "data": {
      "text/html": [
       "<div>\n",
       "<style scoped>\n",
       "    .dataframe tbody tr th:only-of-type {\n",
       "        vertical-align: middle;\n",
       "    }\n",
       "\n",
       "    .dataframe tbody tr th {\n",
       "        vertical-align: top;\n",
       "    }\n",
       "\n",
       "    .dataframe thead th {\n",
       "        text-align: right;\n",
       "    }\n",
       "</style>\n",
       "<table border=\"1\" class=\"dataframe\">\n",
       "  <thead>\n",
       "    <tr style=\"text-align: right;\">\n",
       "      <th></th>\n",
       "      <th>Actual</th>\n",
       "      <th>Predicted</th>\n",
       "    </tr>\n",
       "  </thead>\n",
       "  <tbody>\n",
       "    <tr>\n",
       "      <th>0</th>\n",
       "      <td>178000.0</td>\n",
       "      <td>143386.828295</td>\n",
       "    </tr>\n",
       "    <tr>\n",
       "      <th>1</th>\n",
       "      <td>28000.0</td>\n",
       "      <td>96076.547982</td>\n",
       "    </tr>\n",
       "    <tr>\n",
       "      <th>2</th>\n",
       "      <td>216299.0</td>\n",
       "      <td>124833.777192</td>\n",
       "    </tr>\n",
       "    <tr>\n",
       "      <th>3</th>\n",
       "      <td>91302.0</td>\n",
       "      <td>144314.480850</td>\n",
       "    </tr>\n",
       "    <tr>\n",
       "      <th>4</th>\n",
       "      <td>18200.0</td>\n",
       "      <td>90510.632651</td>\n",
       "    </tr>\n",
       "    <tr>\n",
       "      <th>5</th>\n",
       "      <td>16500.0</td>\n",
       "      <td>94221.242871</td>\n",
       "    </tr>\n",
       "    <tr>\n",
       "      <th>6</th>\n",
       "      <td>27000.0</td>\n",
       "      <td>108136.031199</td>\n",
       "    </tr>\n",
       "    <tr>\n",
       "      <th>7</th>\n",
       "      <td>44455.0</td>\n",
       "      <td>63608.708551</td>\n",
       "    </tr>\n",
       "    <tr>\n",
       "      <th>8</th>\n",
       "      <td>119705.0</td>\n",
       "      <td>142459.175740</td>\n",
       "    </tr>\n",
       "    <tr>\n",
       "      <th>9</th>\n",
       "      <td>41600.0</td>\n",
       "      <td>142459.175740</td>\n",
       "    </tr>\n",
       "    <tr>\n",
       "      <th>10</th>\n",
       "      <td>68540.0</td>\n",
       "      <td>141531.523185</td>\n",
       "    </tr>\n",
       "    <tr>\n",
       "      <th>11</th>\n",
       "      <td>139000.0</td>\n",
       "      <td>76595.844323</td>\n",
       "    </tr>\n",
       "    <tr>\n",
       "      <th>12</th>\n",
       "      <td>155431.0</td>\n",
       "      <td>143386.828295</td>\n",
       "    </tr>\n",
       "    <tr>\n",
       "      <th>13</th>\n",
       "      <td>274993.0</td>\n",
       "      <td>84944.717320</td>\n",
       "    </tr>\n",
       "    <tr>\n",
       "      <th>14</th>\n",
       "      <td>34700.0</td>\n",
       "      <td>142459.175740</td>\n",
       "    </tr>\n",
       "    <tr>\n",
       "      <th>15</th>\n",
       "      <td>240000.0</td>\n",
       "      <td>138748.565519</td>\n",
       "    </tr>\n",
       "    <tr>\n",
       "      <th>16</th>\n",
       "      <td>44000.0</td>\n",
       "      <td>118340.209306</td>\n",
       "    </tr>\n",
       "    <tr>\n",
       "      <th>17</th>\n",
       "      <td>57700.0</td>\n",
       "      <td>96076.547982</td>\n",
       "    </tr>\n",
       "    <tr>\n",
       "      <th>18</th>\n",
       "      <td>45542.0</td>\n",
       "      <td>94221.242871</td>\n",
       "    </tr>\n",
       "    <tr>\n",
       "      <th>19</th>\n",
       "      <td>201082.0</td>\n",
       "      <td>98859.505647</td>\n",
       "    </tr>\n",
       "  </tbody>\n",
       "</table>\n",
       "</div>"
      ],
      "text/plain": [
       "      Actual      Predicted\n",
       "0   178000.0  143386.828295\n",
       "1    28000.0   96076.547982\n",
       "2   216299.0  124833.777192\n",
       "3    91302.0  144314.480850\n",
       "4    18200.0   90510.632651\n",
       "5    16500.0   94221.242871\n",
       "6    27000.0  108136.031199\n",
       "7    44455.0   63608.708551\n",
       "8   119705.0  142459.175740\n",
       "9    41600.0  142459.175740\n",
       "10   68540.0  141531.523185\n",
       "11  139000.0   76595.844323\n",
       "12  155431.0  143386.828295\n",
       "13  274993.0   84944.717320\n",
       "14   34700.0  142459.175740\n",
       "15  240000.0  138748.565519\n",
       "16   44000.0  118340.209306\n",
       "17   57700.0   96076.547982\n",
       "18   45542.0   94221.242871\n",
       "19  201082.0   98859.505647"
      ]
     },
     "execution_count": 53,
     "metadata": {},
     "output_type": "execute_result"
    }
   ],
   "source": [
    "data = pd.DataFrame({'Actual': y_test_2.flatten(), 'Predicted': y_predicted_2.flatten()})\n",
    "data.head(20)"
   ]
  },
  {
   "cell_type": "markdown",
   "id": "f285edff",
   "metadata": {},
   "source": [
    "##### Final Interpretation:\n",
    "The results from our machine learning regression analysis indicate a poor model performance, as evidenced by the low R2 scores for both our test and training sets. Additionally, a comparison of the actual and predicted values reveals a significant discrepancy, further confirming the model's ineffectiveness.\n",
    "\n",
    "In particular, the model fails to accurately represent the relationship between \"Building Construction Year\" and \"Price per Unit.\" It suggests a linear association, but the real-world data does not follow a single, straight regression line. As such, the model's predictions based on this linear assumption are unreliable.\n",
    "\n",
    "This situation underscores the complexity of real estate pricing. \"Price per Unit\" or \"Price per Transaction\" is influenced by numerous factors beyond just the \"Building Construction Year.\" Other variables such as the size, age, and condition of the property, its architectural significance, the local market conditions, and even the property's historical value can significantly impact its price.\n",
    "\n",
    "Therefore, a more sophisticated, multifaceted approach to the analysis might yield more accurate results. One might considers a model that can capture the non-linear relationships and interactions between multiple variables. It's crucial that the model reflects the complexity of the real estate market to make accurate predictions."
   ]
  },
  {
   "cell_type": "code",
   "execution_count": null,
   "id": "73fa1af0",
   "metadata": {},
   "outputs": [],
   "source": []
  }
 ],
 "metadata": {
  "kernelspec": {
   "display_name": "Python 3 (ipykernel)",
   "language": "python",
   "name": "python3"
  },
  "language_info": {
   "codemirror_mode": {
    "name": "ipython",
    "version": 3
   },
   "file_extension": ".py",
   "mimetype": "text/x-python",
   "name": "python",
   "nbconvert_exporter": "python",
   "pygments_lexer": "ipython3",
   "version": "3.11.5"
  }
 },
 "nbformat": 4,
 "nbformat_minor": 5
}
